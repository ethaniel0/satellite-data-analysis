{
 "cells": [
  {
   "cell_type": "code",
   "execution_count": 1,
   "metadata": {},
   "outputs": [],
   "source": [
    "from EGIS import EGIS\n",
    "from PIL import Image"
   ]
  },
  {
   "cell_type": "code",
   "execution_count": 2,
   "metadata": {},
   "outputs": [],
   "source": [
    "feb9 = EGIS('clipped/')\n",
    "# feb19 = EGIS('feb19crop/')"
   ]
  },
  {
   "cell_type": "code",
   "execution_count": 3,
   "metadata": {},
   "outputs": [],
   "source": [
    "%matplotlib qt\n",
    "# feb9.show_bands()\n",
    "# feb19.show_bands()"
   ]
  },
  {
   "cell_type": "code",
   "execution_count": 4,
   "metadata": {},
   "outputs": [],
   "source": [
    "preview1 = feb9.getRGBImage((2, 1, 0))\n",
    "# preview2 = feb19.getRGBImage((2, 1, 0))\n",
    "# Image.fromarray(preview1).show()\n",
    "# Image.fromarray(preview2).show()"
   ]
  },
  {
   "cell_type": "code",
   "execution_count": 5,
   "metadata": {},
   "outputs": [],
   "source": [
    "macroclasses = ['Built-Up', 'Water', 'Clouds', \"Ground\"]\n",
    "classes = {\n",
    "    \"Built-Up\": [\"buildings\", \"roads\"],\n",
    "    \"Clouds\": [\"clouds\", \"shadow\"],\n",
    "    \"Water\": [\"ocean\"],\n",
    "    \"Ground\": [\"vegetation\", \"bare_soil\", \"mountain\"]\n",
    "}\n",
    "colors = {\n",
    "    \"Built-Up\": \"red\",\n",
    "    \"Water\": \"blue\",\n",
    "    \"Clouds\": \"white\",\n",
    "    \"Ground\": \"peachpuff\",\n",
    "    \"clouds\": \"white\",\n",
    "    \"shadow\": \"black\",\n",
    "    \"roads\": \"gray\",\n",
    "    \"buildings\": \"firebrick\",\n",
    "    \"ocean\": 'blue',\n",
    "    \"vegetation\": \"green\",\n",
    "    \"bare_soil\": \"sandybrown\",\n",
    "    \"mountain\": \"darkgoldenrod\"\n",
    "}"
   ]
  },
  {
   "cell_type": "code",
   "execution_count": 6,
   "metadata": {},
   "outputs": [],
   "source": [
    "feb9.setClasses(macroclasses, classes, colors)\n",
    "# feb19.setClasses(macroclasses, classes, colors)"
   ]
  },
  {
   "cell_type": "code",
   "execution_count": 1,
   "metadata": {},
   "outputs": [],
   "source": [
    "from EGIS import EGIS\n",
    "from PIL import Image\n",
    "feb9 = EGIS('clipped/')\n",
    "%matplotlib qt\n",
    "macroclasses = ['Built-Up', 'Water', 'Clouds', \"Ground\"]\n",
    "classes = {\n",
    "    \"Built-Up\": [\"buildings\", \"roads\"],\n",
    "    \"Clouds\": [\"clouds\", \"shadow\"],\n",
    "    \"Water\": [\"ocean\"],\n",
    "    \"Ground\": [\"vegetation\", \"bare_soil\", \"mountain\"]\n",
    "}\n",
    "colors = {\n",
    "    \"Built-Up\": \"red\",\n",
    "    \"Water\": \"blue\",\n",
    "    \"Clouds\": \"white\",\n",
    "    \"Ground\": \"peachpuff\",\n",
    "    \"clouds\": \"white\",\n",
    "    \"shadow\": \"black\",\n",
    "    \"roads\": \"gray\",\n",
    "    \"buildings\": \"firebrick\",\n",
    "    \"ocean\": 'blue',\n",
    "    \"vegetation\": \"green\",\n",
    "    \"bare_soil\": \"sandybrown\",\n",
    "    \"mountain\": \"darkgoldenrod\"\n",
    "}\n",
    "feb9.setClasses(macroclasses, classes, colors)"
   ]
  },
  {
   "cell_type": "code",
   "execution_count": 2,
   "metadata": {},
   "outputs": [
    {
     "name": "stdout",
     "output_type": "stream",
     "text": [
      "0%\n",
      "10%\n",
      "20%\n",
      "30%\n",
      "40%\n",
      "50%\n",
      "60%\n",
      "70%\n",
      "80%\n",
      "90%\n"
     ]
    }
   ],
   "source": [
    "feb9.loadClassifierTraining('classifier1.p')\n",
    "# feb19.loadClassifierTraining('classifier1.p')\n",
    "# feb19.loadClassifierTraining('feb19classifiertraining.p')\n",
    "feb9.previewClassifier()"
   ]
  },
  {
   "cell_type": "code",
   "execution_count": 3,
   "metadata": {},
   "outputs": [
    {
     "name": "stdout",
     "output_type": "stream",
     "text": [
      "0%\n",
      "10%\n",
      "20%\n",
      "30%\n",
      "40%\n",
      "50%\n",
      "60%\n",
      "70%\n",
      "80%\n",
      "90%\n",
      "100%\n"
     ]
    }
   ],
   "source": [
    "classification = feb9.generateClassification()\n",
    "# classification2 = feb19.generateClassification()"
   ]
  },
  {
   "cell_type": "code",
   "execution_count": 26,
   "metadata": {},
   "outputs": [],
   "source": [
    "# render2 = Image.fromarray(classification2, mode='RGB')\n",
    "# render2.show()\n",
    "\n",
    "render = Image.fromarray(classification, mode='RGB')\n",
    "render.show()\n"
   ]
  },
  {
   "cell_type": "code",
   "execution_count": 10,
   "metadata": {},
   "outputs": [],
   "source": [
    "feb9.accuracyPoints()"
   ]
  },
  {
   "cell_type": "code",
   "execution_count": 11,
   "metadata": {},
   "outputs": [],
   "source": [
    "feb19.accuracyPoints()"
   ]
  },
  {
   "cell_type": "code",
   "execution_count": 13,
   "metadata": {},
   "outputs": [
    {
     "name": "stdout",
     "output_type": "stream",
     "text": [
      "79.8131371136937% Accuracy\n",
      "ocean: 100.0% Accuracy\n",
      "shadow: 10.0% Accuracy\n",
      "mountain: 80.0% Accuracy\n",
      "roads: 10.0% Accuracy\n",
      "bare_soil: 60.0% Accuracy\n",
      "buildings: 50.0% Accuracy\n",
      "vegetation: 70.0% Accuracy\n",
      "clouds: 100.0% Accuracy\n"
     ]
    }
   ],
   "source": [
    "feb9.accuracyAssessment()"
   ]
  },
  {
   "cell_type": "code",
   "execution_count": 14,
   "metadata": {},
   "outputs": [
    {
     "name": "stdout",
     "output_type": "stream",
     "text": [
      "81.67764369140207% Accuracy\n",
      "ocean: 100.0% Accuracy\n",
      "shadow: 0.0% Accuracy\n",
      "vegetation: 80.0% Accuracy\n",
      "roads: 10.0% Accuracy\n",
      "buildings: 50.0% Accuracy\n",
      "mountain: 90.0% Accuracy\n",
      "bare_soil: 70.0% Accuracy\n",
      "clouds: 0.0% Accuracy\n"
     ]
    }
   ],
   "source": [
    "feb19.accuracyAssessment()"
   ]
  },
  {
   "cell_type": "code",
   "execution_count": 23,
   "metadata": {},
   "outputs": [
    {
     "name": "stdout",
     "output_type": "stream",
     "text": [
      "Vegetation Cover:\n",
      "2/9:  1.2074548808237282\n",
      "2/19: 1.5976717611262623\n",
      "\n",
      "Soil Cover:\n",
      "2/9:  50.74261897895081\n",
      "2/19 53.436287639751896\n"
     ]
    }
   ],
   "source": [
    "from matplotlib import colors as mcolors\n",
    "import numpy as np\n",
    "def getCover(obj, lookfor, filters): # returns percent cover of a region in an image or region, filtering out unwanted regions\n",
    "    total = 0\n",
    "    covered = 0\n",
    "    for key in obj.colorAreas:\n",
    "        if key in filters:\n",
    "            continue\n",
    "        total += obj.colorAreas[key]\n",
    "        if key in lookfor:\n",
    "            covered += obj.colorAreas[key]\n",
    "    return 100 * covered/total\n",
    "\n",
    "def getVegetationCover(obj): \n",
    "    return getCover(obj, ['vegetation'], ['ocean'])\n",
    "\n",
    "def getSoilCover(obj):\n",
    "    return getCover(obj, ['bare_soil', 'mountain'], ['ocean'])\n",
    "\n",
    "print('Vegetation Cover:')\n",
    "print('2/9: ',getVegetationCover(feb9))\n",
    "print('2/19:', getVegetationCover(feb19))\n",
    "print()\n",
    "print('Soil Cover:')\n",
    "print('2/9: ', getSoilCover(feb9))\n",
    "print('2/19', getSoilCover(feb19))"
   ]
  },
  {
   "cell_type": "code",
   "execution_count": 25,
   "metadata": {},
   "outputs": [],
   "source": [
    "categories = {\n",
    "    'ground': ['bare_soil', 'mountain'],\n",
    "    'built-up': ['buildings', 'roads'],\n",
    "    'vegetation': ['vegetation']\n",
    "}\n",
    "filters = ['ocean', 'clouds', 'shadow']\n",
    "lines = [\",Feb 9\", \",Feb 19\\n\"]\n",
    "for key in categories:\n",
    "    lines.append(key + \",\" + str(getCover(feb9, categories[key], filters)) + \",\" + str(getCover(feb19, categories[key], filters)) + '\\n')\n",
    "\n",
    "with open('metrics.csv', 'w') as f:\n",
    "    f.writelines(lines)\n"
   ]
  },
  {
   "cell_type": "code",
   "execution_count": 36,
   "metadata": {},
   "outputs": [
    {
     "name": "stdout",
     "output_type": "stream",
     "text": [
      "[184 134  11]\n"
     ]
    }
   ],
   "source": []
  },
  {
   "cell_type": "code",
   "execution_count": 59,
   "metadata": {},
   "outputs": [],
   "source": [
    "import matplotlib.pyplot as plt\n",
    "def filterColor(obj, color):\n",
    "    only = np.zeros(obj.classification.shape)\n",
    "    color = tuple(np.round(np.array(mcolors.to_rgba(obj.colors[color])[:3])*255).astype(int))\n",
    "\n",
    "    for i in range(obj.classification.shape[0]):\n",
    "        for j in range(obj.classification.shape[1]):\n",
    "            if tuple(obj.classification[i,j]) == color:\n",
    "                only[i][j] = obj.classification[i,j]\n",
    "    return only\n",
    "\n",
    "feb9vege = filterColor(feb9, 'vegetation')\n",
    "feb19vege = filterColor(feb19, 'vegetation')"
   ]
  },
  {
   "cell_type": "code",
   "execution_count": 60,
   "metadata": {},
   "outputs": [
    {
     "name": "stderr",
     "output_type": "stream",
     "text": [
      "Clipping input data to the valid range for imshow with RGB data ([0..1] for floats or [0..255] for integers).\n",
      "Clipping input data to the valid range for imshow with RGB data ([0..1] for floats or [0..255] for integers).\n"
     ]
    },
    {
     "data": {
      "text/plain": [
       "<matplotlib.image.AxesImage at 0x36cbe8640>"
      ]
     },
     "execution_count": 60,
     "metadata": {},
     "output_type": "execute_result"
    }
   ],
   "source": [
    "f, axes = plt.subplots(1, 2)\n",
    "axes[0].imshow(feb9vege)\n",
    "axes[1].imshow(feb19vege)"
   ]
  },
  {
   "cell_type": "code",
   "execution_count": 64,
   "metadata": {},
   "outputs": [],
   "source": [
    "Image.fromarray(classification).save('feb9classification.png')\n",
    "Image.fromarray(classification2).save('feb19classification.png')"
   ]
  }
 ],
 "metadata": {
  "interpreter": {
   "hash": "b0fa6594d8f4cbf19f97940f81e996739fb7646882a419484c72d19e05852a7e"
  },
  "kernelspec": {
   "display_name": "Python 3.9.12 64-bit",
   "language": "python",
   "name": "python3"
  },
  "language_info": {
   "codemirror_mode": {
    "name": "ipython",
    "version": 3
   },
   "file_extension": ".py",
   "mimetype": "text/x-python",
   "name": "python",
   "nbconvert_exporter": "python",
   "pygments_lexer": "ipython3",
   "version": "3.9.12"
  },
  "orig_nbformat": 4
 },
 "nbformat": 4,
 "nbformat_minor": 2
}
