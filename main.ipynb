{
 "cells": [
  {
   "cell_type": "code",
   "execution_count": 2,
   "metadata": {},
   "outputs": [],
   "source": [
    "import numpy as np\n",
    "from PIL import Image, ImageEnhance\n",
    "import os\n",
    "import matplotlib.pyplot as plt\n",
    "from matplotlib.patches import Rectangle, Polygon, Circle\n",
    "import rasterio\n",
    "from rasterio.windows import Window\n",
    "import random\n",
    "import pickle\n",
    "from shapely import geometry\n",
    "from matplotlib import colors as mcolors\n",
    "from random import shuffle"
   ]
  },
  {
   "cell_type": "markdown",
   "metadata": {},
   "source": [
    "### 1. Get The Satellite Image Files"
   ]
  },
  {
   "cell_type": "code",
   "execution_count": 3,
   "metadata": {},
   "outputs": [],
   "source": [
    "feb9_dir = 'files/S2 2-9-22/GRANULE/L1C_T40QFM_A025743_20220209T064918/IMG_DATA/'\n",
    "feb_19_dir = 'files/S2 2-19-22/GRANULE/L1C_T40QFM_A025886_20220219T064947/IMG_DATA/'\n",
    "\n",
    "bands = ['B02', 'B03', 'B04', 'B05', 'B06', 'B07', 'B08', 'B8A', 'B11', 'B12']"
   ]
  },
  {
   "cell_type": "markdown",
   "metadata": {},
   "source": [
    "### Load Bands"
   ]
  },
  {
   "cell_type": "code",
   "execution_count": 4,
   "metadata": {},
   "outputs": [],
   "source": [
    "# LOAD BANDS\n",
    "\n",
    "bandset = []\n",
    "bandpaths = []\n",
    "\n",
    "def load_bands(dir):\n",
    "    global bandset, bandpaths\n",
    "    bandset = []\n",
    "    bandpaths = []\n",
    "    for file in os.listdir(dir):\n",
    "        if file.endswith(\".jp2\") and file.split('.jp2')[0].split('_')[-1] in bands:\n",
    "            bandpaths.append(dir + file)\n",
    "            # bandset.append(rasterio.open(dir + file))\n",
    "    bandpaths.sort()\n",
    "    for band in bandpaths:\n",
    "        bandset.append(rasterio.open(band))\n",
    "\n",
    "load_bands(feb9_dir)"
   ]
  },
  {
   "cell_type": "code",
   "execution_count": 5,
   "metadata": {},
   "outputs": [
    {
     "ename": "",
     "evalue": "",
     "output_type": "error",
     "traceback": [
      "\u001b[1;31mThe Kernel crashed while executing code in the the current cell or a previous cell. Please review the code in the cell(s) to identify a possible cause of the failure. Click <a href='https://aka.ms/vscodeJupyterKernelCrash'>here</a> for more info. View Jupyter <a href='command:jupyter.viewOutput'>log</a> for further details."
     ]
    }
   ],
   "source": [
    "# DISPLAY THE BANDS\n",
    "\n",
    "%matplotlib qt\n",
    "def show_bands(skip=4):\n",
    "    f, axarr = plt.subplots(3,4)\n",
    "    for ind, band in enumerate(bandset):\n",
    "        axarr[ind//4][ind%4].imshow(band.read(1)[::skip, ::skip])\n",
    "show_bands()"
   ]
  },
  {
   "cell_type": "markdown",
   "metadata": {},
   "source": [
    "### Preprocess The Bands"
   ]
  },
  {
   "cell_type": "code",
   "execution_count": 5,
   "metadata": {},
   "outputs": [
    {
     "name": "stdout",
     "output_type": "stream",
     "text": [
      "(10980, 10980)\n",
      "top left [2994, 7973]\n",
      "bottom right [7153, 9607]\n"
     ]
    }
   ],
   "source": [
    "# GET THE CROP AREA\n",
    "\n",
    "fig, ax = plt.subplots()\n",
    "img = bandset[0]\n",
    "print(img.shape)\n",
    "plt.imshow(img.read(1))\n",
    "\n",
    "tl = []\n",
    "br = []\n",
    "tlcoords = []\n",
    "brcoords = []\n",
    "\n",
    "def onclick(event):\n",
    "    global tl, br, tlcoords, brcoords\n",
    "    x, y = event.xdata, event.ydata\n",
    "    rightclick = event.button == 3\n",
    "    if rightclick:\n",
    "        br = [x / img.shape[1], y / img.shape[0]]\n",
    "        brcoords = [round(x), round(y)]\n",
    "        print('bottom right', brcoords)\n",
    "    else:\n",
    "        tl = [x / img.shape[1], y / img.shape[0]]\n",
    "        tlcoords = [round(x), round(y)]\n",
    "        print('top left', tlcoords)\n",
    "    if tl and br:\n",
    "        ax.add_patch(Rectangle((tlcoords[0], tlcoords[1]), brcoords[0] - tlcoords[0], brcoords[1] - tlcoords[1], fill=False, edgecolor='red'))\n",
    "        plt.draw()\n",
    "\n",
    "cid = fig.canvas.mpl_connect('button_press_event', onclick)"
   ]
  },
  {
   "cell_type": "code",
   "execution_count": 157,
   "metadata": {},
   "outputs": [
    {
     "name": "stdout",
     "output_type": "stream",
     "text": [
      "clipped/clip-T40QFM_20220209T064019_B02.jp2\n",
      "clipped/clip-T40QFM_20220209T064019_B03.jp2\n",
      "clipped/clip-T40QFM_20220209T064019_B04.jp2\n",
      "clipped/clip-T40QFM_20220209T064019_B05.jp2\n",
      "clipped/clip-T40QFM_20220209T064019_B06.jp2\n",
      "clipped/clip-T40QFM_20220209T064019_B07.jp2\n",
      "clipped/clip-T40QFM_20220209T064019_B08.jp2\n",
      "clipped/clip-T40QFM_20220209T064019_B11.jp2\n",
      "clipped/clip-T40QFM_20220209T064019_B12.jp2\n",
      "clipped/clip-T40QFM_20220209T064019_B8A.jp2\n"
     ]
    }
   ],
   "source": [
    "# CLIP EACH BAND TO THE CROP AREA\n",
    "\n",
    "clipFolder = 'clipped/'\n",
    "clipname = 'clip-'\n",
    "for path in bandpaths:\n",
    "    with rasterio.open(path) as src:\n",
    "        # Create a Window and calculate the transform from the source dataset\n",
    "        wid = src.shape[1]\n",
    "        hi = src.shape[0]\n",
    "        xsize = round((br[0] - tl[0]) * wid)\n",
    "        ysize = round((br[1] - tl[1]) * hi)\n",
    "        window = Window(round(tl[0] * wid), round(tl[1] * hi), round(xsize * wid), round(ysize * hi))\n",
    "        transform = src.window_transform(window)\n",
    "        profile = src.profile\n",
    "        profile.update({\n",
    "            'height': ysize,\n",
    "            'width': xsize,\n",
    "            'transform': transform\n",
    "        })\n",
    "        \n",
    "        with rasterio.open(clipFolder + clipname +  path.split('/')[-1], 'w', **profile) as dst:\n",
    "            # Read the data from the window and write it to the output raster\n",
    "            dst.write(src.read(window=window))\n",
    "            \n",
    "        print(clipFolder + clipname + path.split('/')[-1])"
   ]
  },
  {
   "cell_type": "code",
   "execution_count": 16,
   "metadata": {},
   "outputs": [],
   "source": [
    "# USE CLIPPED BANDS\n",
    "\n",
    "load_bands('clipped/')\n",
    "show_bands()"
   ]
  },
  {
   "cell_type": "markdown",
   "metadata": {},
   "source": [
    "### Mark Areas Of Interest"
   ]
  },
  {
   "cell_type": "markdown",
   "metadata": {},
   "source": [
    "#### Combine Bands To RGB For Preview"
   ]
  },
  {
   "cell_type": "code",
   "execution_count": 23,
   "metadata": {},
   "outputs": [
    {
     "name": "stdout",
     "output_type": "stream",
     "text": [
      "1782 3773 (3, 1782, 3773)\n",
      "255.0\n"
     ]
    },
    {
     "data": {
      "text/plain": [
       "<matplotlib.image.AxesImage at 0x135b5ca60>"
      ]
     },
     "execution_count": 23,
     "metadata": {},
     "output_type": "execute_result"
    }
   ],
   "source": [
    "#            r  g  b\n",
    "bandorder = [2, 1, 0]\n",
    "\n",
    "def combineLayers(bandset, bandorder):\n",
    "    img = []\n",
    "    for band in bandorder:\n",
    "        img.append(bandset[band].read(1))\n",
    "\n",
    "    maxwid = max(img, key=lambda x: x.shape[1]).shape[1]\n",
    "    maxhi = max(img, key=lambda x: x.shape[0]).shape[0]\n",
    "\n",
    "    # scale smaller images to the same size\n",
    "    for ind, band in enumerate(img):\n",
    "        if band.shape[0] < maxhi:\n",
    "            img[ind] = np.repeat(band, maxhi // band.shape[0], axis=0)\n",
    "        if band.shape[1] < maxwid:\n",
    "            img[ind] = np.repeat(img[ind], maxwid // band.shape[1], axis=1)\n",
    "\n",
    "    # in case scaling didn't go the full way, add 0's to pad\n",
    "    for ind, band in enumerate(img):\n",
    "        if band.shape[0] < maxhi:\n",
    "            img[ind] = np.vstack([band, np.repeat(np.zeros(maxwid), maxhi - band.shape[0], axis=0)])\n",
    "        if band.shape[1] < maxwid:\n",
    "            img[ind] = np.hstack([band, np.repeat(np.zeros((maxhi,1)), maxwid - band.shape[1], axis=1)])\n",
    "\n",
    "    return np.array(img), maxhi, maxwid\n",
    "\n",
    "def getRGBImage(bandorder):\n",
    "    # load each into an array\n",
    "    img, maxhi, maxwid = combineLayers(bandset, bandorder)\n",
    "    print(maxhi, maxwid, img.shape)\n",
    "\n",
    "    img = img / 32\n",
    "\n",
    "    # make sure that the whites that are too bright don't overflow\n",
    "    bounds = lambda x: max(0, min(x, 255))\n",
    "    vfunc = np.vectorize(bounds)\n",
    "    img = vfunc(img)\n",
    "    print(np.max(img))\n",
    "    img = img.astype(np.uint8)\n",
    "\n",
    "    rgbArray = np.zeros((maxhi, maxwid, 3), 'uint8')\n",
    "    rgbArray[:,:,0] = img[0]\n",
    "    rgbArray[:,:,1] = img[1]\n",
    "    rgbArray[:,:,2] = img[2]\n",
    "\n",
    "    return rgbArray\n",
    "\n",
    "preview = getRGBImage(bandorder)\n",
    "plt.imshow(preview)"
   ]
  },
  {
   "cell_type": "markdown",
   "metadata": {},
   "source": [
    "#### Select ROIs"
   ]
  },
  {
   "cell_type": "code",
   "execution_count": 18,
   "metadata": {},
   "outputs": [],
   "source": [
    "# holds the polygons for each class, defined separately so classes can be added when run again\n",
    "areas = {}"
   ]
  },
  {
   "cell_type": "code",
   "execution_count": 17,
   "metadata": {},
   "outputs": [],
   "source": [
    "macroclasses = ['Built-Up', 'Water', 'Clouds', \"Ground\"]\n",
    "classes = {\n",
    "    \"Built-Up\": [\"buildings\", \"roads\"],\n",
    "    \"Clouds\": [\"clouds\", \"shadow\"],\n",
    "    \"Water\": [\"ocean\"],\n",
    "    \"Ground\": [\"vegetation\", \"bare_soil\", \"mountain\"]\n",
    "}\n",
    "colors = {\n",
    "    \"Built-Up\": \"red\",\n",
    "    \"Water\": \"blue\",\n",
    "    \"Clouds\": \"white\",\n",
    "    \"Ground\": \"peachpuff\",\n",
    "    \"clouds\": \"white\",\n",
    "    \"shadow\": \"black\",\n",
    "    \"roads\": \"gray\",\n",
    "    \"buildings\": \"firebrick\",\n",
    "    \"ocean\": 'blue',\n",
    "    \"vegetation\": \"green\",\n",
    "    \"bare_soil\": \"sandybrown\",\n",
    "    \"mountain\": \"darkgoldenrod\"\n",
    "}\n",
    "# reverse map colors to classes\n",
    "colorMap = {}\n",
    "for key in classes:\n",
    "    for val in classes[key]:\n",
    "        rgb = mcolors.to_rgb(colors[val])[:3]\n",
    "\n",
    "        colorMap[tuple(np.round(np.array(rgb)*255).astype(np.uint8).tolist())] = val"
   ]
  },
  {
   "cell_type": "code",
   "execution_count": 10,
   "metadata": {},
   "outputs": [],
   "source": [
    "# GET THE CLASSIFICATION AREAS\n",
    "\n",
    "fig, ax = plt.subplots()\n",
    "ax.imshow(preview)\n",
    "\n",
    "cur_macroclass = 0\n",
    "cur_class = 0\n",
    "\n",
    "coords = []             # normalized coordinates because some images are larger than others\n",
    "pixelcoords = []        # coordinates in pixels, relative to the reference image\n",
    "\n",
    "currentcircles = []     # holds the circles drawn on the image\n",
    "\n",
    "pressingShift = False\n",
    "\n",
    "curtext = None\n",
    "curpolygon = None\n",
    "\n",
    "mcstr = macroclasses[cur_macroclass] # macro class name\n",
    "curtext = plt.text(0, 0.94, mcstr + ',' + classes[mcstr][cur_class], color='red', transform = ax.transAxes)\n",
    "fig.canvas.draw()\n",
    "\n",
    "def onclick(event):\n",
    "    if not pressingShift: return\n",
    "    global coords, currentcircles, pixelcoords, curpolygon\n",
    "    x, y = event.xdata, event.ydata\n",
    "    rightclick = event.button == 3\n",
    "\n",
    "    mcname = macroclasses[cur_macroclass]\n",
    "    cname = classes[mcname][cur_class]\n",
    "    \n",
    "    # close the polygon, reset coordinates\n",
    "    if rightclick:\n",
    "        # add the coordinates to the areas\n",
    "        \n",
    "        if not mcname in areas:\n",
    "            areas[mcname] = []\n",
    "        if not cname in areas:\n",
    "            areas[cname] = []\n",
    "        \n",
    "        areas[mcname].append(coords)\n",
    "        areas[cname].append(coords)\n",
    "        \n",
    "\n",
    "        coords = []\n",
    "        pixelcoords = []\n",
    "        for i in currentcircles:\n",
    "            i.remove()\n",
    "        fig.canvas.draw()\n",
    "        currentcircles = []\n",
    "        curpolygon = None\n",
    "    # add coordinate, draw point\n",
    "    else:\n",
    "        coords.append((x / preview.shape[1], y / preview.shape[0]))\n",
    "        pixelcoords.append((round(x), round(y)))\n",
    "        circle = Circle((round(x), round(y)), radius=3, fill=True, alpha=0.8, color='magenta')\n",
    "        ax.add_patch(circle)\n",
    "        currentcircles.append(circle)\n",
    "    \n",
    "    # draw a polygon if more than 3 coordinates\n",
    "    if len(coords) > 2:\n",
    "        if curpolygon: curpolygon.remove()\n",
    "        curpolygon = Polygon(np.array(pixelcoords), fill=True, alpha=0.6, color=colors[cname])\n",
    "        ax.add_patch(curpolygon)\n",
    "    \n",
    "    fig.canvas.draw()\n",
    "\n",
    "# detect if the shift key is pressed\n",
    "def onKeyPress(event):\n",
    "    global pressingShift\n",
    "    if event.key == 'shift':\n",
    "        pressingShift = True\n",
    "# detect if the shift key is released, detect if 1, 2, 3, or 4 are pressed\n",
    "def onKeyUp(event):\n",
    "    global pressingShift, cur_class, cur_macroclass, curtext\n",
    "    if event.key == 'shift':\n",
    "        pressingShift = False\n",
    "    if event.key == '1':\n",
    "        cur_macroclass = max(0, cur_macroclass - 1)\n",
    "        cur_class = 0\n",
    "    if event.key == '2':\n",
    "        cur_macroclass = min(len(macroclasses) - 1, cur_macroclass + 1)\n",
    "        cur_class = 0\n",
    "    if event.key == '3':\n",
    "        cur_class = max(0, cur_class - 1)\n",
    "    if event.key == '4':\n",
    "        cur_class = min(len(classes[macroclasses[cur_macroclass]]) - 1, cur_class + 1)\n",
    "\n",
    "    mcstr = macroclasses[cur_macroclass]\n",
    "    if curtext: curtext.remove()\n",
    "    curtext = plt.text(0, 0.94, mcstr + ',' + classes[mcstr][cur_class], color='red', transform = ax.transAxes)\n",
    "    fig.canvas.draw()\n",
    "\n",
    "cid = fig.canvas.mpl_connect('button_press_event', onclick)\n",
    "keydown = fig.canvas.mpl_connect('key_press_event', onKeyPress)\n",
    "keyup = fig.canvas.mpl_connect('key_release_event', onKeyUp)"
   ]
  },
  {
   "cell_type": "markdown",
   "metadata": {},
   "source": [
    "#### Save The Training Areas"
   ]
  },
  {
   "cell_type": "code",
   "execution_count": 173,
   "metadata": {},
   "outputs": [],
   "source": [
    "\n",
    "pickle.dump(areas, open(\"training.p\", \"wb\"))"
   ]
  },
  {
   "cell_type": "code",
   "execution_count": 172,
   "metadata": {},
   "outputs": [
    {
     "data": {
      "text/plain": [
       "dict_keys(['Built-Up', 'buildings', 'roads', 'Water', 'ocean', 'Clouds', 'clouds', 'Ground', 'vegetation', 'bare_soil', 'mountain', 'shadow'])"
      ]
     },
     "execution_count": 172,
     "metadata": {},
     "output_type": "execute_result"
    }
   ],
   "source": [
    "areas.keys()"
   ]
  },
  {
   "cell_type": "code",
   "execution_count": 19,
   "metadata": {},
   "outputs": [],
   "source": [
    "areas = pickle.load(open(\"training.p\", \"rb\"))"
   ]
  },
  {
   "cell_type": "markdown",
   "metadata": {},
   "source": [
    "### Train The Classification Model Using The ROIs And Classify The Image"
   ]
  },
  {
   "cell_type": "markdown",
   "metadata": {},
   "source": [
    "#### Set Up A Classifier"
   ]
  },
  {
   "cell_type": "code",
   "execution_count": 20,
   "metadata": {},
   "outputs": [],
   "source": [
    "class Classifier:\n",
    "    def __init__(self, bandset):\n",
    "        self.classes = {}\n",
    "        self.bandset = bandset\n",
    "        self.bigimg = None\n",
    "\n",
    "        ret, maxhi, maxwid = combineLayers(self.bandset, range(len(self.bandset)))\n",
    "\n",
    "        self.bigimg = np.zeros((maxhi, maxwid, len(self.bandset))) # array with all bands (w x h x #bands)\n",
    "        for y in range(maxhi):\n",
    "            for x in range(maxwid):\n",
    "                self.bigimg[y,x] = ret[:,y,x]\n",
    "    \n",
    "    def save_training(self, filename):\n",
    "        pickle.dump(self.classes, open(filename, \"wb\"))\n",
    "    \n",
    "    def load_training(self, data):\n",
    "        self.classes = pickle.load(open(data, \"rb\"))\n",
    "\n",
    "    # add a class to the classifier\n",
    "    def add(self, name, polygons):\n",
    "        avgvalues = []\n",
    "        # go through each band in the bandset, read it, and get the average value for every polygon through that band\n",
    "        for bandimg in self.bandset:\n",
    "            band = bandimg.read(1)\n",
    "            averages = []\n",
    "            for polygon in polygons:\n",
    "                points = []\n",
    "                for point in polygon:\n",
    "                    # all the points are normalized, so scale them back up\n",
    "                    points.append((round(point[0] * band.shape[1]), round(point[1] * band.shape[0])))\n",
    "                avg = self.getAverageColor(band, points)\n",
    "                averages.append(avg)\n",
    "            avgvalues.append(np.average(averages, axis=0))\n",
    "        self.classes[name] = np.array(avgvalues)\n",
    "\n",
    "    def getBoundingSquare(self, points):\n",
    "        xs = [p[0] for p in points]\n",
    "        ys = [p[1] for p in points]\n",
    "        xmin = min(xs)\n",
    "        xmax = max(xs)\n",
    "        ymin = min(ys)\n",
    "        ymax = max(ys)\n",
    "        return (xmin, xmax, ymin, ymax)\n",
    "\n",
    "    # gets a square of side length radius, centered at the point\n",
    "    def getNearbyPixels(self, x, y, radius=2):\n",
    "        xmin = max(0, x - radius)\n",
    "        xmax = min(self.bigimg.shape[1], x + radius)\n",
    "        ymin = max(0, y - radius)\n",
    "        ymax = min(self.bigimg.shape[0], y + radius)\n",
    "        pixels = self.bigimg[ymin:ymax, xmin:xmax].flatten().tolist()\n",
    "        # pad with zeroes if not long enough\n",
    "        if len(pixels) != (2 * radius + 1) ** 2 * self.bigimg.shape[2]:\n",
    "            pads = ((2 * radius + 1) ** 2 - len(pixels))\n",
    "            pixels.extend([[0]*13 for _ in range(pads)])\n",
    "        return pixels\n",
    "\n",
    "    def getPixelsWithinPolygon(self, img, points):\n",
    "        xmin, xmax, ymin, ymax = self.getBoundingSquare(points)\n",
    "        polygon = geometry.polygon.Polygon(points)\n",
    "        pixels = []\n",
    "        for x in range(xmin, xmax + 1):\n",
    "            for y in range(ymin, ymax + 1):\n",
    "                if polygon.contains(geometry.Point(x, y)):\n",
    "                    pixels.append(img[y][x])\n",
    "        return pixels\n",
    "    \n",
    "    # average pixel color within a region\n",
    "    def getAverageColor(self, img, points):\n",
    "        pixels = self.getPixelsWithinPolygon(img, points)\n",
    "        return np.average(pixels, axis=0)\n",
    "    \n",
    "    # get coordinates of pixels that are within a polygon\n",
    "    def getPixelCoords(self, points):\n",
    "        xmin, xmax, ymin, ymax = self.getBoundingSquare(points)\n",
    "        polygon = geometry.polygon.Polygon(points)\n",
    "        pixels = []\n",
    "        for x in range(xmin, xmax + 1):\n",
    "            for y in range(ymin, ymax + 1):\n",
    "                if polygon.contains(geometry.Point(x, y)):\n",
    "                    pixels.append(self.getNearbyPixels(x, y))\n",
    "        return pixels\n",
    "\n",
    "    # very simple spectral analysis and mapping\n",
    "    def nearestClass(self, x, y, radius=2):\n",
    "        if radius > 0:\n",
    "            xmin = max(0, x - radius)\n",
    "            xmax = min(self.bigimg.shape[1], x + radius)\n",
    "            ymin = max(0, y - radius)\n",
    "            ymax = min(self.bigimg.shape[0], y + radius)\n",
    "            pixel = np.average(self.bigimg[ymin:ymax, xmin:xmax], axis=0)\n",
    "        else:\n",
    "            pixel = self.bigimg[y][x]\n",
    "        mindist = float('inf')\n",
    "        minclass = None\n",
    "        for name, values in self.classes.items():\n",
    "            dist = np.linalg.norm(pixel - values)\n",
    "            if dist < mindist:\n",
    "                mindist = dist\n",
    "                minclass = name\n",
    "        return minclass\n",
    "    \n",
    "    def classifyRegion(self, x1, y1, x2, y2, verbose=False, radius=2):\n",
    "        results = np.zeros((y2 - y1, x2 - x1, 3), 'uint8')\n",
    "        possibleColors = {}\n",
    "        for key in colors:\n",
    "            possibleColors[key] = np.round(np.array(mcolors.to_rgb(colors[key])[:3]) * 255).astype('uint8')\n",
    "\n",
    "        for y in range(y1, y2):\n",
    "            for x in range(x1, x2):\n",
    "                classname = self.nearestClass(x, y, radius)\n",
    "                results[y-y1][x-x1] = possibleColors[classname]\n",
    "            if verbose:\n",
    "                if round((y - y1) / (y2 - y1) * 100) % 10 == 0:\n",
    "                    print(str(round((y - y1) / (y2 - y1) * 100)) + '%')\n",
    "        \n",
    "        return np.array(results)\n",
    "    \n",
    "    def classify(self, verbose=False, radius=2):\n",
    "        return self.classifyRegion(0, 0, self.bigimg.shape[1], self.bigimg.shape[0], verbose, radius)\n",
    "        \n",
    "c = Classifier(bandset)"
   ]
  },
  {
   "cell_type": "code",
   "execution_count": 21,
   "metadata": {},
   "outputs": [
    {
     "name": "stdout",
     "output_type": "stream",
     "text": [
      "buildings\n",
      "roads\n",
      "clouds\n",
      "shadow\n",
      "ocean\n",
      "vegetation\n",
      "bare_soil\n",
      "mountain\n",
      "done adding data!\n"
     ]
    }
   ],
   "source": [
    "# c.load_training('classifier1.p')\n",
    "for key in classes:\n",
    "    for x in classes[key]:\n",
    "        if x not in c.classes:\n",
    "            c.add(x, areas[x])\n",
    "            print(x)\n",
    "print('done adding data!')\n",
    "c.save_training('classifier1.p')"
   ]
  },
  {
   "cell_type": "markdown",
   "metadata": {},
   "source": [
    "#### Preview And Render Classification"
   ]
  },
  {
   "cell_type": "code",
   "execution_count": 24,
   "metadata": {},
   "outputs": [
    {
     "name": "stdout",
     "output_type": "stream",
     "text": [
      "0%\n",
      "10%\n",
      "20%\n",
      "30%\n",
      "40%\n",
      "50%\n",
      "60%\n",
      "70%\n",
      "80%\n",
      "90%\n",
      "(400, 400, 3)\n"
     ]
    }
   ],
   "source": [
    "fig, ax = plt.subplots()\n",
    "ax.imshow(preview)\n",
    "\n",
    "def previewOnclick(event):\n",
    "    x, y = event.xdata, event.ydata\n",
    "    xmin = max(0, int(x - 200))\n",
    "    xmax = min(preview.shape[1], int(x + 200))\n",
    "    ymin = max(0, int(y - 200))\n",
    "    ymax = min(preview.shape[0], int(y + 200))\n",
    "    classification = c.classifyRegion(xmin, ymin, xmax, ymax, verbose=True, radius=1)\n",
    "    print(classification.shape)\n",
    "    ax.imshow(classification)\n",
    "    fig.canvas.draw()\n",
    "\n",
    "cid = fig.canvas.mpl_connect('button_press_event', previewOnclick)\n"
   ]
  },
  {
   "cell_type": "code",
   "execution_count": 25,
   "metadata": {},
   "outputs": [
    {
     "name": "stdout",
     "output_type": "stream",
     "text": [
      "0%\n",
      "50%\n"
     ]
    }
   ],
   "source": [
    "classification = c.classify(verbose=True, radius=1)\n",
    "render = Image.fromarray(classification, mode='RGB')\n",
    "render.show()\n",
    "pickle.dump(classification, open('classification.p', 'wb'))"
   ]
  },
  {
   "cell_type": "code",
   "execution_count": 26,
   "metadata": {},
   "outputs": [],
   "source": [
    "render.show()"
   ]
  },
  {
   "cell_type": "markdown",
   "metadata": {},
   "source": [
    "### Perform An Accuracy Assessment"
   ]
  },
  {
   "cell_type": "code",
   "execution_count": 27,
   "metadata": {},
   "outputs": [],
   "source": [
    "previewimg = Image.fromarray(preview, mode='RGB')\n",
    "addColor = ImageEnhance.Color(previewimg)\n",
    "pimg2 = addColor.enhance(2)\n",
    "brighten = ImageEnhance.Brightness(pimg2)\n",
    "pimg2 = brighten.enhance(1.5)\n",
    "preview = np.array(pimg2)"
   ]
  },
  {
   "cell_type": "markdown",
   "metadata": {},
   "source": [
    "#### Get 10 Random Test Points For Each Class"
   ]
  },
  {
   "cell_type": "code",
   "execution_count": 28,
   "metadata": {},
   "outputs": [],
   "source": [
    "# record all the pixel locations of every color\n",
    "colorPixels = {}\n",
    "for y in range(len(classification)):\n",
    "    for x in range(len(classification[y])):\n",
    "        color = tuple(classification[y][x])\n",
    "        if color not in colorPixels:\n",
    "            colorPixels[color] = []\n",
    "        colorPixels[color].append((x, y))\n",
    "\n",
    "testpoints = []\n",
    "for key in colorPixels:\n",
    "    points = random.choices(colorPixels[key], k=10)\n",
    "    testpoints.append(points)"
   ]
  },
  {
   "cell_type": "markdown",
   "metadata": {},
   "source": [
    "#### Go Trough Each Test Point And Manually Classsify"
   ]
  },
  {
   "cell_type": "code",
   "execution_count": 33,
   "metadata": {},
   "outputs": [
    {
     "name": "stdout",
     "output_type": "stream",
     "text": [
      "passed passed passed passed passed passed passed passed passed passed \n",
      "failed failed failed failed passed failed failed failed failed failed \n",
      "passed passed failed passed passed passed passed passed passed passed \n",
      "failed passed failed failed failed failed failed failed failed failed \n",
      "failed failed passed failed passed passed failed failed failed passed \n",
      "passed failed passed failed failed failed failed failed passed passed \n",
      "failed passed passed passed passed failed failed passed passed passed \n",
      "passed passed passed passed passed passed passed failed passed passed \n"
     ]
    },
    {
     "name": "stderr",
     "output_type": "stream",
     "text": [
      "Traceback (most recent call last):\n",
      "  File \"/opt/homebrew/lib/python3.9/site-packages/matplotlib/cbook/__init__.py\", line 287, in process\n",
      "    func(*args, **kwargs)\n",
      "  File \"/var/folders/bw/4tzf4sn540g21cjq2sgsty4w0000gn/T/ipykernel_44111/3544117365.py\", line 62, in accuracyKeyPress\n",
      "    point = testpoints[curclass][curpoint]\n",
      "IndexError: list index out of range\n"
     ]
    }
   ],
   "source": [
    "fig, axarr = plt.subplots()\n",
    "axarr.imshow(preview)\n",
    "# axarr[1].imshow(classification)\n",
    "\n",
    "curclass = 0\n",
    "curpoint = 0\n",
    "curtext = None\n",
    "cursquare = None\n",
    "\n",
    "failed = 0\n",
    "passed = 0\n",
    "perClass = {}\n",
    "\n",
    "\n",
    "point = testpoints[curclass][curpoint]\n",
    "predicted = tuple(classification[point[1]][point[0]].tolist())\n",
    "colorname = colorMap[predicted]\n",
    "\n",
    "cursquare = axarr.add_patch(Rectangle((point[0] - 3, point[1] - 3), 6, 6, edgecolor='red', facecolor='none'))\n",
    "curtext = plt.text(0, 0.94, colorname, color='red', transform = ax.transAxes)\n",
    "\n",
    "radius = 300\n",
    "\n",
    "# y axis goes from top down, so max and min are reversed\n",
    "axarr.axis([\n",
    "            max(0, point[0]-radius),                  # x min\n",
    "            min(preview.shape[1], point[0]+radius),   # x max\n",
    "            min(preview.shape[0], point[1]+radius),   # y max\n",
    "            max(0, point[1]-radius)                   # y min\n",
    "            ])\n",
    "\n",
    "perClass[colorname] = { 'passed': 0, 'failed': 0 }\n",
    "\n",
    "def accuracyKeyPress(event):\n",
    "    global cursquare, curtext, passed, failed, curpoint, curclass, curtext, colorname\n",
    "    if colorname not in perClass:\n",
    "        perClass[colorname] = {\n",
    "            'passed': 0,\n",
    "            'failed': 0\n",
    "        }\n",
    "    # failed\n",
    "    if event.key == '1':\n",
    "        failed += 1\n",
    "        perClass[colorname]['failed'] += 1\n",
    "        curpoint += 1\n",
    "        print('failed', end=' ')\n",
    "    \n",
    "    # passed\n",
    "    if event.key == '2':\n",
    "        passed += 1\n",
    "        perClass[colorname]['passed'] += 1\n",
    "        curpoint += 1\n",
    "        print('passed', end=' ')\n",
    "    \n",
    "    \n",
    "    if curpoint >= len(testpoints[curclass]):\n",
    "        curclass += 1\n",
    "        curpoint = 0\n",
    "        print()\n",
    "    \n",
    "    # define new point and color, remove old markers before replacing them\n",
    "    point = testpoints[curclass][curpoint]\n",
    "    predicted = tuple(classification[point[1]][point[0]].tolist())\n",
    "    colorname = colorMap[predicted]\n",
    "    cursquare.remove()\n",
    "    curtext.remove()\n",
    "    cursquare = axarr.add_patch(Rectangle((point[0] - 3, point[1] - 3), 6, 6, edgecolor='red', facecolor='none'))\n",
    "    curtext = plt.text(0, 0.94, colorname, color='red', transform = ax.transAxes)\n",
    "    \n",
    "    axarr.axis([max(0, point[0]-radius), min(preview.shape[1], point[0]+radius), min(preview.shape[0], point[1]+radius), max(0, point[1]-radius)])\n",
    "    fig.canvas.draw()\n",
    "\n",
    "keydown = fig.canvas.mpl_connect('key_press_event', accuracyKeyPress)"
   ]
  },
  {
   "cell_type": "code",
   "execution_count": 34,
   "metadata": {},
   "outputs": [
    {
     "name": "stdout",
     "output_type": "stream",
     "text": [
      "56.25% Accuracy\n",
      "ocean: 100.0% Accuracy\n",
      "shadow: 10.0% Accuracy\n",
      "mountain: 90.0% Accuracy\n",
      "roads: 10.0% Accuracy\n",
      "bare_soil: 40.0% Accuracy\n",
      "buildings: 40.0% Accuracy\n",
      "vegetation: 70.0% Accuracy\n",
      "clouds: 90.0% Accuracy\n"
     ]
    }
   ],
   "source": [
    "print(str(100*passed / (passed + failed)) + \"% Accuracy\")\n",
    "for key in perClass:\n",
    "    print(key + ': ' + str(100*perClass[key]['passed'] / 10) + \"% Accuracy\")\n"
   ]
  },
  {
   "cell_type": "markdown",
   "metadata": {},
   "source": [
    "### Derive Metrics: Vegetation Cover, Soil Exposed"
   ]
  },
  {
   "cell_type": "code",
   "execution_count": 35,
   "metadata": {},
   "outputs": [
    {
     "name": "stdout",
     "output_type": "stream",
     "text": [
      "1.2074548808237282\n",
      "50.74261897895081\n"
     ]
    }
   ],
   "source": [
    "def getCover(img, lookfor, filters): # returns percent cover of a region in an image or region, filtering out unwanted regions\n",
    "    wanted = []\n",
    "    unwanted = []\n",
    "    for i in lookfor:\n",
    "        wanted.append(tuple(np.round(np.array(mcolors.to_rgb(colors[i])[:3])*255).tolist()))\n",
    "    for i in filters:\n",
    "        unwanted.append(tuple(np.round(np.array(mcolors.to_rgb(colors[i])[:3])*255).tolist()))\n",
    "    \n",
    "    land_pixels = 0\n",
    "    wanted_pixels = 0\n",
    "\n",
    "    for y in range(len(img)):\n",
    "        for x in range(len(img[y])):\n",
    "            p = tuple(img[y,x].tolist())\n",
    "            if p in unwanted:\n",
    "                continue\n",
    "            land_pixels += 1\n",
    "            if p in wanted:\n",
    "                wanted_pixels += 1\n",
    "    \n",
    "    return 100 * wanted_pixels / land_pixels\n",
    "\n",
    "def getVegetationCover(img): \n",
    "    return getCover(img, ['vegetation'], ['ocean'])\n",
    "\n",
    "def getSoilCover(img):\n",
    "    return getCover(img, ['bare_soil', 'mountain'], ['ocean'])\n",
    "\n",
    "print(getVegetationCover(classification))\n",
    "print(getSoilCover(classification))"
   ]
  },
  {
   "cell_type": "code",
   "execution_count": null,
   "metadata": {},
   "outputs": [],
   "source": []
  }
 ],
 "metadata": {
  "interpreter": {
   "hash": "b0fa6594d8f4cbf19f97940f81e996739fb7646882a419484c72d19e05852a7e"
  },
  "kernelspec": {
   "display_name": "Python 3.9.12 64-bit",
   "language": "python",
   "name": "python3"
  },
  "language_info": {
   "codemirror_mode": {
    "name": "ipython",
    "version": 3
   },
   "file_extension": ".py",
   "mimetype": "text/x-python",
   "name": "python",
   "nbconvert_exporter": "python",
   "pygments_lexer": "ipython3",
   "version": "3.9.12"
  },
  "orig_nbformat": 4
 },
 "nbformat": 4,
 "nbformat_minor": 2
}
